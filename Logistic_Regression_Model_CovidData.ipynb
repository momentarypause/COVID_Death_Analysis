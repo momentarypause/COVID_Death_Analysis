{
 "cells": [
  {
   "cell_type": "code",
   "execution_count": 1,
   "metadata": {},
   "outputs": [],
   "source": [
    "#Import dependencies and other necessary items\n",
    "import warnings\n",
    "warnings.filterwarnings('ignore')\n",
    "import numpy as np\n",
    "import pandas as pd\n",
    "from pathlib import Path\n",
    "from collections import Counter"
   ]
  },
  {
   "cell_type": "code",
   "execution_count": 2,
   "metadata": {},
   "outputs": [],
   "source": [
    "from sklearn.metrics import balanced_accuracy_score\n",
    "from sklearn.metrics import confusion_matrix"
   ]
  },
  {
   "cell_type": "code",
   "execution_count": 3,
   "metadata": {},
   "outputs": [
    {
     "data": {
      "text/html": [
       "<div>\n",
       "<style scoped>\n",
       "    .dataframe tbody tr th:only-of-type {\n",
       "        vertical-align: middle;\n",
       "    }\n",
       "\n",
       "    .dataframe tbody tr th {\n",
       "        vertical-align: top;\n",
       "    }\n",
       "\n",
       "    .dataframe thead th {\n",
       "        text-align: right;\n",
       "    }\n",
       "</style>\n",
       "<table border=\"1\" class=\"dataframe\">\n",
       "  <thead>\n",
       "    <tr style=\"text-align: right;\">\n",
       "      <th></th>\n",
       "      <th>vehicle_length</th>\n",
       "      <th>vehicle_weight</th>\n",
       "      <th>spoiler_angle</th>\n",
       "      <th>ground_clearance</th>\n",
       "      <th>AWD</th>\n",
       "      <th>mpg</th>\n",
       "    </tr>\n",
       "  </thead>\n",
       "  <tbody>\n",
       "    <tr>\n",
       "      <th>0</th>\n",
       "      <td>14.697095</td>\n",
       "      <td>6407.946470</td>\n",
       "      <td>48.789983</td>\n",
       "      <td>14.640983</td>\n",
       "      <td>1</td>\n",
       "      <td>49.049180</td>\n",
       "    </tr>\n",
       "    <tr>\n",
       "      <th>1</th>\n",
       "      <td>12.534206</td>\n",
       "      <td>5182.080571</td>\n",
       "      <td>90.000000</td>\n",
       "      <td>14.366679</td>\n",
       "      <td>1</td>\n",
       "      <td>36.766063</td>\n",
       "    </tr>\n",
       "    <tr>\n",
       "      <th>2</th>\n",
       "      <td>20.000000</td>\n",
       "      <td>8337.981208</td>\n",
       "      <td>78.632323</td>\n",
       "      <td>12.253711</td>\n",
       "      <td>0</td>\n",
       "      <td>80.000000</td>\n",
       "    </tr>\n",
       "    <tr>\n",
       "      <th>3</th>\n",
       "      <td>13.428485</td>\n",
       "      <td>9419.670939</td>\n",
       "      <td>55.939032</td>\n",
       "      <td>12.989359</td>\n",
       "      <td>1</td>\n",
       "      <td>18.941489</td>\n",
       "    </tr>\n",
       "    <tr>\n",
       "      <th>4</th>\n",
       "      <td>15.449980</td>\n",
       "      <td>3772.666826</td>\n",
       "      <td>26.128164</td>\n",
       "      <td>15.103963</td>\n",
       "      <td>1</td>\n",
       "      <td>63.824568</td>\n",
       "    </tr>\n",
       "  </tbody>\n",
       "</table>\n",
       "</div>"
      ],
      "text/plain": [
       "   vehicle_length  vehicle_weight  spoiler_angle  ground_clearance  AWD  \\\n",
       "0       14.697095     6407.946470      48.789983         14.640983    1   \n",
       "1       12.534206     5182.080571      90.000000         14.366679    1   \n",
       "2       20.000000     8337.981208      78.632323         12.253711    0   \n",
       "3       13.428485     9419.670939      55.939032         12.989359    1   \n",
       "4       15.449980     3772.666826      26.128164         15.103963    1   \n",
       "\n",
       "         mpg  \n",
       "0  49.049180  \n",
       "1  36.766063  \n",
       "2  80.000000  \n",
       "3  18.941489  \n",
       "4  63.824568  "
      ]
     },
     "execution_count": 3,
     "metadata": {},
     "output_type": "execute_result"
    }
   ],
   "source": [
    "# #Load the data\n",
    "\n",
    "file_path = Path(\"Resources/MechaCar_mpg.csv\")\n",
    "covid_data_df = pd.read_csv(file_path)\n",
    "covid_data_df.head()\n",
    "# OR \n",
    "# covid_data_df = pd.read_json()"
   ]
  },
  {
   "cell_type": "markdown",
   "metadata": {},
   "source": [
    "# Clean the data and prepare it for the machine learning model"
   ]
  },
  {
   "cell_type": "code",
   "execution_count": 34,
   "metadata": {},
   "outputs": [
    {
     "data": {
      "text/html": [
       "<div>\n",
       "<style scoped>\n",
       "    .dataframe tbody tr th:only-of-type {\n",
       "        vertical-align: middle;\n",
       "    }\n",
       "\n",
       "    .dataframe tbody tr th {\n",
       "        vertical-align: top;\n",
       "    }\n",
       "\n",
       "    .dataframe thead th {\n",
       "        text-align: right;\n",
       "    }\n",
       "</style>\n",
       "<table border=\"1\" class=\"dataframe\">\n",
       "  <thead>\n",
       "    <tr style=\"text-align: right;\">\n",
       "      <th></th>\n",
       "      <th>vehicle_length</th>\n",
       "      <th>vehicle_weight</th>\n",
       "      <th>spoiler_angle</th>\n",
       "      <th>ground_clearance</th>\n",
       "      <th>AWD</th>\n",
       "      <th>mpg</th>\n",
       "      <th>good_or_bad</th>\n",
       "    </tr>\n",
       "  </thead>\n",
       "  <tbody>\n",
       "    <tr>\n",
       "      <th>0</th>\n",
       "      <td>14.697095</td>\n",
       "      <td>6407.946470</td>\n",
       "      <td>48.789983</td>\n",
       "      <td>14.640983</td>\n",
       "      <td>1</td>\n",
       "      <td>49.049180</td>\n",
       "      <td>good</td>\n",
       "    </tr>\n",
       "    <tr>\n",
       "      <th>1</th>\n",
       "      <td>12.534206</td>\n",
       "      <td>5182.080571</td>\n",
       "      <td>90.000000</td>\n",
       "      <td>14.366679</td>\n",
       "      <td>1</td>\n",
       "      <td>36.766063</td>\n",
       "      <td>bad</td>\n",
       "    </tr>\n",
       "    <tr>\n",
       "      <th>2</th>\n",
       "      <td>20.000000</td>\n",
       "      <td>8337.981208</td>\n",
       "      <td>78.632323</td>\n",
       "      <td>12.253711</td>\n",
       "      <td>0</td>\n",
       "      <td>80.000000</td>\n",
       "      <td>good</td>\n",
       "    </tr>\n",
       "    <tr>\n",
       "      <th>3</th>\n",
       "      <td>13.428485</td>\n",
       "      <td>9419.670939</td>\n",
       "      <td>55.939032</td>\n",
       "      <td>12.989359</td>\n",
       "      <td>1</td>\n",
       "      <td>18.941489</td>\n",
       "      <td>bad</td>\n",
       "    </tr>\n",
       "    <tr>\n",
       "      <th>4</th>\n",
       "      <td>15.449980</td>\n",
       "      <td>3772.666826</td>\n",
       "      <td>26.128164</td>\n",
       "      <td>15.103963</td>\n",
       "      <td>1</td>\n",
       "      <td>63.824568</td>\n",
       "      <td>good</td>\n",
       "    </tr>\n",
       "  </tbody>\n",
       "</table>\n",
       "</div>"
      ],
      "text/plain": [
       "   vehicle_length  vehicle_weight  spoiler_angle  ground_clearance  AWD  \\\n",
       "0       14.697095     6407.946470      48.789983         14.640983    1   \n",
       "1       12.534206     5182.080571      90.000000         14.366679    1   \n",
       "2       20.000000     8337.981208      78.632323         12.253711    0   \n",
       "3       13.428485     9419.670939      55.939032         12.989359    1   \n",
       "4       15.449980     3772.666826      26.128164         15.103963    1   \n",
       "\n",
       "         mpg good_or_bad  \n",
       "0  49.049180        good  \n",
       "1  36.766063         bad  \n",
       "2  80.000000        good  \n",
       "3  18.941489         bad  \n",
       "4  63.824568        good  "
      ]
     },
     "execution_count": 34,
     "metadata": {},
     "output_type": "execute_result"
    }
   ],
   "source": [
    "covid_data_df['good_or_bad'] = covid_data_df['mpg'].apply(lambda x: 'good' if x > 40 else 'bad')\n",
    "covid_data_df.head()"
   ]
  },
  {
   "cell_type": "markdown",
   "metadata": {},
   "source": [
    "# Split the data into training and testing"
   ]
  },
  {
   "cell_type": "code",
   "execution_count": 35,
   "metadata": {},
   "outputs": [],
   "source": [
    "#Ensure all data types are numerical for the machine learning model to process"
   ]
  },
  {
   "cell_type": "code",
   "execution_count": 36,
   "metadata": {},
   "outputs": [],
   "source": [
    "#Create features\n",
    "X = covid_data_df.drop(['good_or_bad'], axis=1)\n",
    "\n",
    "#Create targets\n",
    "y = covid_data_df['good_or_bad']"
   ]
  },
  {
   "cell_type": "code",
   "execution_count": 37,
   "metadata": {},
   "outputs": [
    {
     "data": {
      "text/plain": [
       "good    31\n",
       "bad     19\n",
       "Name: good_or_bad, dtype: int64"
      ]
     },
     "execution_count": 37,
     "metadata": {},
     "output_type": "execute_result"
    }
   ],
   "source": [
    "#Check balance of the target values\n",
    "y.value_counts()"
   ]
  },
  {
   "cell_type": "code",
   "execution_count": 38,
   "metadata": {},
   "outputs": [],
   "source": [
    "#Import train test split and split the data into training and testing\n",
    "from sklearn.model_selection import train_test_split\n",
    "X_train, X_test, y_train, y_test = train_test_split(X, y, random_state=1,stratify=y)"
   ]
  },
  {
   "cell_type": "markdown",
   "metadata": {},
   "source": [
    "# Use Logistic Regression Model to train and predict"
   ]
  },
  {
   "cell_type": "code",
   "execution_count": 39,
   "metadata": {},
   "outputs": [
    {
     "data": {
      "text/plain": [
       "LogisticRegression(random_state=1)"
      ]
     },
     "execution_count": 39,
     "metadata": {},
     "output_type": "execute_result"
    }
   ],
   "source": [
    "# # Train the Logistic Regression model using the training data\n",
    "\n",
    "from sklearn.linear_model import LogisticRegression\n",
    "model = LogisticRegression(solver=\"lbfgs\", random_state=1)\n",
    "model.fit(X_train, y_train)"
   ]
  },
  {
   "cell_type": "code",
   "execution_count": 40,
   "metadata": {},
   "outputs": [],
   "source": [
    "#Predict using the trained data\n",
    "\n",
    "y_pred = model.predict(X_test)"
   ]
  },
  {
   "cell_type": "code",
   "execution_count": 41,
   "metadata": {},
   "outputs": [
    {
     "name": "stdout",
     "output_type": "stream",
     "text": [
      "   Prediction Actual\n",
      "35       good   good\n",
      "16       good   good\n",
      "41       good   good\n",
      "48        bad   good\n",
      "12        bad    bad\n",
      "32        bad   good\n",
      "21        bad    bad\n",
      "18       good   good\n",
      "25        bad    bad\n",
      "22        bad    bad\n",
      "27       good   good\n",
      "7        good   good\n",
      "24        bad    bad\n"
     ]
    }
   ],
   "source": [
    "#Compare the prediction data vs the actual data from y_test\n",
    "\n",
    "compare_df = pd.DataFrame({\"Prediction\": y_pred, \"Actual\": y_test})\n",
    "print(compare_df)"
   ]
  },
  {
   "cell_type": "markdown",
   "metadata": {},
   "source": [
    "# Showcase results of the machine learning model"
   ]
  },
  {
   "cell_type": "code",
   "execution_count": 42,
   "metadata": {},
   "outputs": [
    {
     "name": "stdout",
     "output_type": "stream",
     "text": [
      "The balanced accuracy score for the Logistic Regression Model is : 0.875\n"
     ]
    }
   ],
   "source": [
    "# Calculated the balanced accuracy score\n",
    "\n",
    "from sklearn.metrics import balanced_accuracy_score, confusion_matrix\n",
    "\n",
    "acc_score = balanced_accuracy_score(y_test, y_pred)\n",
    "\n",
    "print(f\"The balanced accuracy score for the Logistic Regression Model is : {acc_score}\")"
   ]
  },
  {
   "cell_type": "code",
   "execution_count": 43,
   "metadata": {},
   "outputs": [
    {
     "name": "stdout",
     "output_type": "stream",
     "text": [
      "             Pred Bad  Pred Good\n",
      "Actual Bad          5          0\n",
      "Actual Good         2          6\n"
     ]
    }
   ],
   "source": [
    "# Display the confusion matrix\n",
    "\n",
    "cm = pd.DataFrame(confusion_matrix(y_test, y_pred), index = [\"Actual Bad\", \"Actual Good\"], columns = [\"Pred Bad\", \"Pred Good\"])\n",
    "print(cm)"
   ]
  },
  {
   "cell_type": "code",
   "execution_count": null,
   "metadata": {},
   "outputs": [],
   "source": []
  }
 ],
 "metadata": {
  "kernelspec": {
   "display_name": "Python 3 (ipykernel)",
   "language": "python",
   "name": "python3"
  },
  "language_info": {
   "codemirror_mode": {
    "name": "ipython",
    "version": 3
   },
   "file_extension": ".py",
   "mimetype": "text/x-python",
   "name": "python",
   "nbconvert_exporter": "python",
   "pygments_lexer": "ipython3",
   "version": "3.7.13"
  },
  "vscode": {
   "interpreter": {
    "hash": "ba7ef81f1f8beb9be4c564ad4b6dfc47d246db89c5baddc1cb7e88ecb6a449f7"
   }
  }
 },
 "nbformat": 4,
 "nbformat_minor": 2
}
