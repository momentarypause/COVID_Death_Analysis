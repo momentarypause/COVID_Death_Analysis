{
 "cells": [
  {
   "cell_type": "code",
   "execution_count": 3,
   "metadata": {},
   "outputs": [],
   "source": [
    "#Import dependencies and other necessary items\n",
    "import warnings\n",
    "warnings.filterwarnings('ignore')\n",
    "import numpy as np\n",
    "import pandas as pd\n",
    "from pathlib import Path\n",
    "from collections import Counter\n",
    "from sklearn.preprocessing import StandardScaler"
   ]
  },
  {
   "cell_type": "code",
   "execution_count": 4,
   "metadata": {},
   "outputs": [],
   "source": [
    "from sklearn.metrics import balanced_accuracy_score\n",
    "from sklearn.metrics import confusion_matrix"
   ]
  },
  {
   "cell_type": "code",
   "execution_count": 5,
   "metadata": {
    "scrolled": false
   },
   "outputs": [
    {
     "data": {
      "text/html": [
       "<div>\n",
       "<style scoped>\n",
       "    .dataframe tbody tr th:only-of-type {\n",
       "        vertical-align: middle;\n",
       "    }\n",
       "\n",
       "    .dataframe tbody tr th {\n",
       "        vertical-align: top;\n",
       "    }\n",
       "\n",
       "    .dataframe thead th {\n",
       "        text-align: right;\n",
       "    }\n",
       "</style>\n",
       "<table border=\"1\" class=\"dataframe\">\n",
       "  <thead>\n",
       "    <tr style=\"text-align: right;\">\n",
       "      <th></th>\n",
       "      <th>Unnamed: 0</th>\n",
       "      <th>Unnamed: 0.1</th>\n",
       "      <th>Date_Onset</th>\n",
       "      <th>State</th>\n",
       "      <th>ST_Code</th>\n",
       "      <th>County</th>\n",
       "      <th>FIPS</th>\n",
       "      <th>Age_Range</th>\n",
       "      <th>Sex</th>\n",
       "      <th>Race</th>\n",
       "      <th>Ethnicity</th>\n",
       "      <th>Case_Positive_Specimen</th>\n",
       "      <th>Current_Status</th>\n",
       "      <th>Symptom_Status</th>\n",
       "      <th>Hosp_yn</th>\n",
       "      <th>ICU_yn</th>\n",
       "      <th>Death_yn</th>\n",
       "      <th>Date_Onset_Month</th>\n",
       "      <th>Date_Onset_Year</th>\n",
       "    </tr>\n",
       "  </thead>\n",
       "  <tbody>\n",
       "    <tr>\n",
       "      <th>0</th>\n",
       "      <td>128</td>\n",
       "      <td>128</td>\n",
       "      <td>8/1/2021</td>\n",
       "      <td>PA</td>\n",
       "      <td>42</td>\n",
       "      <td>WASHINGTON</td>\n",
       "      <td>42125</td>\n",
       "      <td>0 - 17 years</td>\n",
       "      <td>Female</td>\n",
       "      <td>White</td>\n",
       "      <td>Non-Hispanic/Latino</td>\n",
       "      <td>1</td>\n",
       "      <td>Probable Case</td>\n",
       "      <td>Symptomatic</td>\n",
       "      <td>False</td>\n",
       "      <td>False</td>\n",
       "      <td>False</td>\n",
       "      <td>8</td>\n",
       "      <td>2021</td>\n",
       "    </tr>\n",
       "    <tr>\n",
       "      <th>1</th>\n",
       "      <td>129</td>\n",
       "      <td>129</td>\n",
       "      <td>8/1/2021</td>\n",
       "      <td>PA</td>\n",
       "      <td>42</td>\n",
       "      <td>WASHINGTON</td>\n",
       "      <td>42125</td>\n",
       "      <td>0 - 17 years</td>\n",
       "      <td>Female</td>\n",
       "      <td>White</td>\n",
       "      <td>Non-Hispanic/Latino</td>\n",
       "      <td>1</td>\n",
       "      <td>Probable Case</td>\n",
       "      <td>Symptomatic</td>\n",
       "      <td>False</td>\n",
       "      <td>False</td>\n",
       "      <td>False</td>\n",
       "      <td>8</td>\n",
       "      <td>2021</td>\n",
       "    </tr>\n",
       "    <tr>\n",
       "      <th>2</th>\n",
       "      <td>287</td>\n",
       "      <td>287</td>\n",
       "      <td>4/1/2020</td>\n",
       "      <td>TN</td>\n",
       "      <td>47</td>\n",
       "      <td>SHELBY</td>\n",
       "      <td>47157</td>\n",
       "      <td>18 to 49 years</td>\n",
       "      <td>Female</td>\n",
       "      <td>Black</td>\n",
       "      <td>Non-Hispanic/Latino</td>\n",
       "      <td>1</td>\n",
       "      <td>Laboratory-confirmed case</td>\n",
       "      <td>Symptomatic</td>\n",
       "      <td>False</td>\n",
       "      <td>False</td>\n",
       "      <td>False</td>\n",
       "      <td>4</td>\n",
       "      <td>2020</td>\n",
       "    </tr>\n",
       "    <tr>\n",
       "      <th>3</th>\n",
       "      <td>378</td>\n",
       "      <td>378</td>\n",
       "      <td>10/1/2020</td>\n",
       "      <td>TN</td>\n",
       "      <td>47</td>\n",
       "      <td>DAVIDSON</td>\n",
       "      <td>47037</td>\n",
       "      <td>50 to 64 years</td>\n",
       "      <td>Male</td>\n",
       "      <td>Black</td>\n",
       "      <td>Non-Hispanic/Latino</td>\n",
       "      <td>0</td>\n",
       "      <td>Laboratory-confirmed case</td>\n",
       "      <td>Symptomatic</td>\n",
       "      <td>False</td>\n",
       "      <td>False</td>\n",
       "      <td>False</td>\n",
       "      <td>10</td>\n",
       "      <td>2020</td>\n",
       "    </tr>\n",
       "    <tr>\n",
       "      <th>4</th>\n",
       "      <td>470</td>\n",
       "      <td>470</td>\n",
       "      <td>2/1/2022</td>\n",
       "      <td>KS</td>\n",
       "      <td>20</td>\n",
       "      <td>RILEY</td>\n",
       "      <td>20161</td>\n",
       "      <td>0 - 17 years</td>\n",
       "      <td>Female</td>\n",
       "      <td>White</td>\n",
       "      <td>Non-Hispanic/Latino</td>\n",
       "      <td>0</td>\n",
       "      <td>Probable Case</td>\n",
       "      <td>Symptomatic</td>\n",
       "      <td>False</td>\n",
       "      <td>False</td>\n",
       "      <td>False</td>\n",
       "      <td>2</td>\n",
       "      <td>2022</td>\n",
       "    </tr>\n",
       "  </tbody>\n",
       "</table>\n",
       "</div>"
      ],
      "text/plain": [
       "   Unnamed: 0  Unnamed: 0.1 Date_Onset State  ST_Code      County   FIPS  \\\n",
       "0         128           128   8/1/2021    PA       42  WASHINGTON  42125   \n",
       "1         129           129   8/1/2021    PA       42  WASHINGTON  42125   \n",
       "2         287           287   4/1/2020    TN       47      SHELBY  47157   \n",
       "3         378           378  10/1/2020    TN       47    DAVIDSON  47037   \n",
       "4         470           470   2/1/2022    KS       20       RILEY  20161   \n",
       "\n",
       "        Age_Range     Sex   Race            Ethnicity  Case_Positive_Specimen  \\\n",
       "0    0 - 17 years  Female  White  Non-Hispanic/Latino                       1   \n",
       "1    0 - 17 years  Female  White  Non-Hispanic/Latino                       1   \n",
       "2  18 to 49 years  Female  Black  Non-Hispanic/Latino                       1   \n",
       "3  50 to 64 years    Male  Black  Non-Hispanic/Latino                       0   \n",
       "4    0 - 17 years  Female  White  Non-Hispanic/Latino                       0   \n",
       "\n",
       "              Current_Status Symptom_Status  Hosp_yn  ICU_yn  Death_yn  \\\n",
       "0              Probable Case    Symptomatic    False   False     False   \n",
       "1              Probable Case    Symptomatic    False   False     False   \n",
       "2  Laboratory-confirmed case    Symptomatic    False   False     False   \n",
       "3  Laboratory-confirmed case    Symptomatic    False   False     False   \n",
       "4              Probable Case    Symptomatic    False   False     False   \n",
       "\n",
       "   Date_Onset_Month  Date_Onset_Year  \n",
       "0                 8             2021  \n",
       "1                 8             2021  \n",
       "2                 4             2020  \n",
       "3                10             2020  \n",
       "4                 2             2022  "
      ]
     },
     "execution_count": 5,
     "metadata": {},
     "output_type": "execute_result"
    }
   ],
   "source": [
    "# Load in the provisional data as a CSV\n",
    "provisional_data_df = pd.read_csv(\"Resources/provisionaldb.csv\")\n",
    "provisional_data_df.head()\n",
    "\n",
    "#Now we have to load in the data from the actual SQL database and NOT a CSV"
   ]
  },
  {
   "cell_type": "markdown",
   "metadata": {},
   "source": [
    "# Clean the data and prepare it for the machine learning model- Preprocessing"
   ]
  },
  {
   "cell_type": "code",
   "execution_count": 6,
   "metadata": {},
   "outputs": [],
   "source": [
    "from sklearn import preprocessing\n",
    "from sklearn.preprocessing import LabelEncoder"
   ]
  },
  {
   "cell_type": "code",
   "execution_count": 7,
   "metadata": {},
   "outputs": [],
   "source": [
    "for column in provisional_data_df.columns: \n",
    "    le = preprocessing.LabelEncoder()\n",
    "    test = le.fit(provisional_data_df[column])\n",
    "    provisional_data_df[column] = le.transform(provisional_data_df[column])"
   ]
  },
  {
   "cell_type": "code",
   "execution_count": 8,
   "metadata": {
    "scrolled": true
   },
   "outputs": [
    {
     "data": {
      "text/html": [
       "<div>\n",
       "<style scoped>\n",
       "    .dataframe tbody tr th:only-of-type {\n",
       "        vertical-align: middle;\n",
       "    }\n",
       "\n",
       "    .dataframe tbody tr th {\n",
       "        vertical-align: top;\n",
       "    }\n",
       "\n",
       "    .dataframe thead th {\n",
       "        text-align: right;\n",
       "    }\n",
       "</style>\n",
       "<table border=\"1\" class=\"dataframe\">\n",
       "  <thead>\n",
       "    <tr style=\"text-align: right;\">\n",
       "      <th></th>\n",
       "      <th>Unnamed: 0</th>\n",
       "      <th>Unnamed: 0.1</th>\n",
       "      <th>Date_Onset</th>\n",
       "      <th>State</th>\n",
       "      <th>ST_Code</th>\n",
       "      <th>County</th>\n",
       "      <th>FIPS</th>\n",
       "      <th>Age_Range</th>\n",
       "      <th>Sex</th>\n",
       "      <th>Race</th>\n",
       "      <th>Ethnicity</th>\n",
       "      <th>Case_Positive_Specimen</th>\n",
       "      <th>Current_Status</th>\n",
       "      <th>Symptom_Status</th>\n",
       "      <th>Hosp_yn</th>\n",
       "      <th>ICU_yn</th>\n",
       "      <th>Death_yn</th>\n",
       "      <th>Date_Onset_Month</th>\n",
       "      <th>Date_Onset_Year</th>\n",
       "    </tr>\n",
       "  </thead>\n",
       "  <tbody>\n",
       "    <tr>\n",
       "      <th>0</th>\n",
       "      <td>0</td>\n",
       "      <td>0</td>\n",
       "      <td>26</td>\n",
       "      <td>14</td>\n",
       "      <td>14</td>\n",
       "      <td>178</td>\n",
       "      <td>168</td>\n",
       "      <td>0</td>\n",
       "      <td>0</td>\n",
       "      <td>5</td>\n",
       "      <td>1</td>\n",
       "      <td>6</td>\n",
       "      <td>1</td>\n",
       "      <td>1</td>\n",
       "      <td>0</td>\n",
       "      <td>0</td>\n",
       "      <td>0</td>\n",
       "      <td>7</td>\n",
       "      <td>1</td>\n",
       "    </tr>\n",
       "    <tr>\n",
       "      <th>1</th>\n",
       "      <td>1</td>\n",
       "      <td>1</td>\n",
       "      <td>26</td>\n",
       "      <td>14</td>\n",
       "      <td>14</td>\n",
       "      <td>178</td>\n",
       "      <td>168</td>\n",
       "      <td>0</td>\n",
       "      <td>0</td>\n",
       "      <td>5</td>\n",
       "      <td>1</td>\n",
       "      <td>6</td>\n",
       "      <td>1</td>\n",
       "      <td>1</td>\n",
       "      <td>0</td>\n",
       "      <td>0</td>\n",
       "      <td>0</td>\n",
       "      <td>7</td>\n",
       "      <td>1</td>\n",
       "    </tr>\n",
       "    <tr>\n",
       "      <th>2</th>\n",
       "      <td>2</td>\n",
       "      <td>2</td>\n",
       "      <td>13</td>\n",
       "      <td>15</td>\n",
       "      <td>15</td>\n",
       "      <td>159</td>\n",
       "      <td>203</td>\n",
       "      <td>1</td>\n",
       "      <td>0</td>\n",
       "      <td>2</td>\n",
       "      <td>1</td>\n",
       "      <td>6</td>\n",
       "      <td>0</td>\n",
       "      <td>1</td>\n",
       "      <td>0</td>\n",
       "      <td>0</td>\n",
       "      <td>0</td>\n",
       "      <td>3</td>\n",
       "      <td>0</td>\n",
       "    </tr>\n",
       "    <tr>\n",
       "      <th>3</th>\n",
       "      <td>3</td>\n",
       "      <td>3</td>\n",
       "      <td>2</td>\n",
       "      <td>15</td>\n",
       "      <td>15</td>\n",
       "      <td>47</td>\n",
       "      <td>179</td>\n",
       "      <td>2</td>\n",
       "      <td>1</td>\n",
       "      <td>2</td>\n",
       "      <td>1</td>\n",
       "      <td>5</td>\n",
       "      <td>0</td>\n",
       "      <td>1</td>\n",
       "      <td>0</td>\n",
       "      <td>0</td>\n",
       "      <td>0</td>\n",
       "      <td>9</td>\n",
       "      <td>0</td>\n",
       "    </tr>\n",
       "    <tr>\n",
       "      <th>4</th>\n",
       "      <td>4</td>\n",
       "      <td>4</td>\n",
       "      <td>9</td>\n",
       "      <td>5</td>\n",
       "      <td>5</td>\n",
       "      <td>144</td>\n",
       "      <td>39</td>\n",
       "      <td>0</td>\n",
       "      <td>0</td>\n",
       "      <td>5</td>\n",
       "      <td>1</td>\n",
       "      <td>5</td>\n",
       "      <td>1</td>\n",
       "      <td>1</td>\n",
       "      <td>0</td>\n",
       "      <td>0</td>\n",
       "      <td>0</td>\n",
       "      <td>1</td>\n",
       "      <td>2</td>\n",
       "    </tr>\n",
       "  </tbody>\n",
       "</table>\n",
       "</div>"
      ],
      "text/plain": [
       "   Unnamed: 0  Unnamed: 0.1  Date_Onset  State  ST_Code  County  FIPS  \\\n",
       "0           0             0          26     14       14     178   168   \n",
       "1           1             1          26     14       14     178   168   \n",
       "2           2             2          13     15       15     159   203   \n",
       "3           3             3           2     15       15      47   179   \n",
       "4           4             4           9      5        5     144    39   \n",
       "\n",
       "   Age_Range  Sex  Race  Ethnicity  Case_Positive_Specimen  Current_Status  \\\n",
       "0          0    0     5          1                       6               1   \n",
       "1          0    0     5          1                       6               1   \n",
       "2          1    0     2          1                       6               0   \n",
       "3          2    1     2          1                       5               0   \n",
       "4          0    0     5          1                       5               1   \n",
       "\n",
       "   Symptom_Status  Hosp_yn  ICU_yn  Death_yn  Date_Onset_Month  \\\n",
       "0               1        0       0         0                 7   \n",
       "1               1        0       0         0                 7   \n",
       "2               1        0       0         0                 3   \n",
       "3               1        0       0         0                 9   \n",
       "4               1        0       0         0                 1   \n",
       "\n",
       "   Date_Onset_Year  \n",
       "0                1  \n",
       "1                1  \n",
       "2                0  \n",
       "3                0  \n",
       "4                2  "
      ]
     },
     "execution_count": 8,
     "metadata": {},
     "output_type": "execute_result"
    }
   ],
   "source": [
    "provisional_data_df.head()"
   ]
  },
  {
   "cell_type": "code",
   "execution_count": 9,
   "metadata": {},
   "outputs": [
    {
     "data": {
      "text/html": [
       "<div>\n",
       "<style scoped>\n",
       "    .dataframe tbody tr th:only-of-type {\n",
       "        vertical-align: middle;\n",
       "    }\n",
       "\n",
       "    .dataframe tbody tr th {\n",
       "        vertical-align: top;\n",
       "    }\n",
       "\n",
       "    .dataframe thead th {\n",
       "        text-align: right;\n",
       "    }\n",
       "</style>\n",
       "<table border=\"1\" class=\"dataframe\">\n",
       "  <thead>\n",
       "    <tr style=\"text-align: right;\">\n",
       "      <th></th>\n",
       "      <th>Date_Onset</th>\n",
       "      <th>State</th>\n",
       "      <th>County</th>\n",
       "      <th>Age_Range</th>\n",
       "      <th>Sex</th>\n",
       "      <th>Race</th>\n",
       "      <th>Ethnicity</th>\n",
       "      <th>Case_Positive_Specimen</th>\n",
       "      <th>Current_Status</th>\n",
       "      <th>Symptom_Status</th>\n",
       "      <th>Hosp_yn</th>\n",
       "      <th>ICU_yn</th>\n",
       "      <th>Death_yn</th>\n",
       "      <th>Date_Onset_Month</th>\n",
       "      <th>Date_Onset_Year</th>\n",
       "    </tr>\n",
       "  </thead>\n",
       "  <tbody>\n",
       "    <tr>\n",
       "      <th>0</th>\n",
       "      <td>26</td>\n",
       "      <td>14</td>\n",
       "      <td>178</td>\n",
       "      <td>0</td>\n",
       "      <td>0</td>\n",
       "      <td>5</td>\n",
       "      <td>1</td>\n",
       "      <td>6</td>\n",
       "      <td>1</td>\n",
       "      <td>1</td>\n",
       "      <td>0</td>\n",
       "      <td>0</td>\n",
       "      <td>0</td>\n",
       "      <td>7</td>\n",
       "      <td>1</td>\n",
       "    </tr>\n",
       "    <tr>\n",
       "      <th>1</th>\n",
       "      <td>26</td>\n",
       "      <td>14</td>\n",
       "      <td>178</td>\n",
       "      <td>0</td>\n",
       "      <td>0</td>\n",
       "      <td>5</td>\n",
       "      <td>1</td>\n",
       "      <td>6</td>\n",
       "      <td>1</td>\n",
       "      <td>1</td>\n",
       "      <td>0</td>\n",
       "      <td>0</td>\n",
       "      <td>0</td>\n",
       "      <td>7</td>\n",
       "      <td>1</td>\n",
       "    </tr>\n",
       "    <tr>\n",
       "      <th>2</th>\n",
       "      <td>13</td>\n",
       "      <td>15</td>\n",
       "      <td>159</td>\n",
       "      <td>1</td>\n",
       "      <td>0</td>\n",
       "      <td>2</td>\n",
       "      <td>1</td>\n",
       "      <td>6</td>\n",
       "      <td>0</td>\n",
       "      <td>1</td>\n",
       "      <td>0</td>\n",
       "      <td>0</td>\n",
       "      <td>0</td>\n",
       "      <td>3</td>\n",
       "      <td>0</td>\n",
       "    </tr>\n",
       "    <tr>\n",
       "      <th>3</th>\n",
       "      <td>2</td>\n",
       "      <td>15</td>\n",
       "      <td>47</td>\n",
       "      <td>2</td>\n",
       "      <td>1</td>\n",
       "      <td>2</td>\n",
       "      <td>1</td>\n",
       "      <td>5</td>\n",
       "      <td>0</td>\n",
       "      <td>1</td>\n",
       "      <td>0</td>\n",
       "      <td>0</td>\n",
       "      <td>0</td>\n",
       "      <td>9</td>\n",
       "      <td>0</td>\n",
       "    </tr>\n",
       "    <tr>\n",
       "      <th>4</th>\n",
       "      <td>9</td>\n",
       "      <td>5</td>\n",
       "      <td>144</td>\n",
       "      <td>0</td>\n",
       "      <td>0</td>\n",
       "      <td>5</td>\n",
       "      <td>1</td>\n",
       "      <td>5</td>\n",
       "      <td>1</td>\n",
       "      <td>1</td>\n",
       "      <td>0</td>\n",
       "      <td>0</td>\n",
       "      <td>0</td>\n",
       "      <td>1</td>\n",
       "      <td>2</td>\n",
       "    </tr>\n",
       "  </tbody>\n",
       "</table>\n",
       "</div>"
      ],
      "text/plain": [
       "   Date_Onset  State  County  Age_Range  Sex  Race  Ethnicity  \\\n",
       "0          26     14     178          0    0     5          1   \n",
       "1          26     14     178          0    0     5          1   \n",
       "2          13     15     159          1    0     2          1   \n",
       "3           2     15      47          2    1     2          1   \n",
       "4           9      5     144          0    0     5          1   \n",
       "\n",
       "   Case_Positive_Specimen  Current_Status  Symptom_Status  Hosp_yn  ICU_yn  \\\n",
       "0                       6               1               1        0       0   \n",
       "1                       6               1               1        0       0   \n",
       "2                       6               0               1        0       0   \n",
       "3                       5               0               1        0       0   \n",
       "4                       5               1               1        0       0   \n",
       "\n",
       "   Death_yn  Date_Onset_Month  Date_Onset_Year  \n",
       "0         0                 7                1  \n",
       "1         0                 7                1  \n",
       "2         0                 3                0  \n",
       "3         0                 9                0  \n",
       "4         0                 1                2  "
      ]
     },
     "execution_count": 9,
     "metadata": {},
     "output_type": "execute_result"
    }
   ],
   "source": [
    "#Drop st_code, unnamed columns, FIPS\n",
    "provisional_data_df = provisional_data_df.drop(['Unnamed: 0', 'Unnamed: 0.1', 'ST_Code', 'FIPS'], axis=1)\n",
    "provisional_data_df.head()"
   ]
  },
  {
   "cell_type": "markdown",
   "metadata": {},
   "source": [
    "# Split the data into training and testing"
   ]
  },
  {
   "cell_type": "code",
   "execution_count": 10,
   "metadata": {},
   "outputs": [],
   "source": [
    "#Create features\n",
    "X = provisional_data_df.drop(['Death_yn'], axis=1)\n",
    "\n",
    "#Create targets\n",
    "y = provisional_data_df['Death_yn']"
   ]
  },
  {
   "cell_type": "code",
   "execution_count": 11,
   "metadata": {},
   "outputs": [
    {
     "data": {
      "text/plain": [
       "0    2808\n",
       "1      67\n",
       "Name: Death_yn, dtype: int64"
      ]
     },
     "execution_count": 11,
     "metadata": {},
     "output_type": "execute_result"
    }
   ],
   "source": [
    "#Check balance of the target values\n",
    "y.value_counts()"
   ]
  },
  {
   "cell_type": "code",
   "execution_count": 12,
   "metadata": {},
   "outputs": [],
   "source": [
    "#Import train test split and split the data into training and testing\n",
    "from sklearn.model_selection import train_test_split\n",
    "X_train, X_test, y_train, y_test = train_test_split(X, y, random_state=1,stratify=y)"
   ]
  },
  {
   "cell_type": "code",
   "execution_count": 13,
   "metadata": {},
   "outputs": [],
   "source": [
    "#Will need to do sampling to shift the unbalanced data\n",
    "#Add in the Smoeteen sampling algorithm\n",
    "\n",
    "from imblearn.combine import SMOTEENN\n",
    "\n",
    "smote_enn = SMOTEENN(random_state=1)"
   ]
  },
  {
   "cell_type": "code",
   "execution_count": 14,
   "metadata": {},
   "outputs": [
    {
     "data": {
      "text/plain": [
       "Counter({0: 2037, 1: 2094})"
      ]
     },
     "execution_count": 14,
     "metadata": {},
     "output_type": "execute_result"
    }
   ],
   "source": [
    "X_resampled, y_resampled = smote_enn.fit_resample(X_train, y_train)\n",
    "Counter(y_resampled)"
   ]
  },
  {
   "cell_type": "markdown",
   "metadata": {},
   "source": [
    "# Use Logistic Regression Model to train and predict"
   ]
  },
  {
   "cell_type": "code",
   "execution_count": 15,
   "metadata": {},
   "outputs": [
    {
     "data": {
      "text/plain": [
       "LogisticRegression(random_state=1)"
      ]
     },
     "execution_count": 15,
     "metadata": {},
     "output_type": "execute_result"
    }
   ],
   "source": [
    "# # Train the Logistic Regression model using the training data \n",
    "#Using the data that is now resampled\n",
    "\n",
    "from sklearn.linear_model import LogisticRegression\n",
    "model = LogisticRegression(solver=\"lbfgs\", random_state=1)\n",
    "model.fit(X_resampled, y_resampled)"
   ]
  },
  {
   "cell_type": "code",
   "execution_count": 16,
   "metadata": {},
   "outputs": [],
   "source": [
    "#Predict using the trained data\n",
    "\n",
    "y_pred = model.predict(X_test)"
   ]
  },
  {
   "cell_type": "code",
   "execution_count": 17,
   "metadata": {},
   "outputs": [
    {
     "name": "stdout",
     "output_type": "stream",
     "text": [
      "      Prediction  Actual\n",
      "559            0       0\n",
      "2669           0       0\n",
      "1345           0       0\n",
      "168            0       0\n",
      "2234           1       0\n",
      "...          ...     ...\n",
      "1492           0       0\n",
      "2819           0       0\n",
      "413            0       0\n",
      "702            1       0\n",
      "242            0       0\n",
      "\n",
      "[719 rows x 2 columns]\n"
     ]
    }
   ],
   "source": [
    "#Compare the prediction data vs the actual data from y_test\n",
    "\n",
    "compare_df = pd.DataFrame({\"Prediction\": y_pred, \"Actual\": y_test})\n",
    "print(compare_df)"
   ]
  },
  {
   "cell_type": "markdown",
   "metadata": {},
   "source": [
    "# Showcase results of the machine learning model"
   ]
  },
  {
   "cell_type": "code",
   "execution_count": 18,
   "metadata": {},
   "outputs": [
    {
     "name": "stdout",
     "output_type": "stream",
     "text": [
      "The balanced accuracy score for the Logistic Regression Model is : 0.9228674375733199\n"
     ]
    }
   ],
   "source": [
    "# Calculated the balanced accuracy score\n",
    "\n",
    "from sklearn.metrics import balanced_accuracy_score, confusion_matrix\n",
    "\n",
    "acc_score = balanced_accuracy_score(y_test, y_pred)\n",
    "\n",
    "print(f\"The balanced accuracy score for the Logistic Regression Model is : {acc_score}\")"
   ]
  },
  {
   "cell_type": "code",
   "execution_count": 19,
   "metadata": {},
   "outputs": [
    {
     "name": "stdout",
     "output_type": "stream",
     "text": [
      "              Pred Alive  Pred Dead\n",
      "Actual Alive         635         67\n",
      "Actual Dead            1         16\n"
     ]
    }
   ],
   "source": [
    "# Display the confusion matrix\n",
    "\n",
    "cm = pd.DataFrame(confusion_matrix(y_test, y_pred), index = [\"Actual Alive\", \"Actual Dead\"], columns = [\"Pred Alive\", \"Pred Dead\"])\n",
    "print(cm)"
   ]
  },
  {
   "cell_type": "code",
   "execution_count": 20,
   "metadata": {},
   "outputs": [
    {
     "name": "stdout",
     "output_type": "stream",
     "text": [
      "                   pre       rec       spe        f1       geo       iba       sup\n",
      "\n",
      "          0       1.00      0.90      0.94      0.95      0.92      0.85       702\n",
      "          1       0.19      0.94      0.90      0.32      0.92      0.85        17\n",
      "\n",
      "avg / total       0.98      0.91      0.94      0.93      0.92      0.85       719\n",
      "\n"
     ]
    }
   ],
   "source": [
    "# Print the imbalanced classification report\n",
    "from imblearn.metrics import classification_report_imbalanced\n",
    "print(classification_report_imbalanced(y_test, y_pred))"
   ]
  },
  {
   "cell_type": "markdown",
   "metadata": {},
   "source": [
    "# Notes to add to ReadME"
   ]
  },
  {
   "cell_type": "code",
   "execution_count": null,
   "metadata": {},
   "outputs": [],
   "source": [
    "#Sampling data using Smoteen improved accuracy score from 71% to 89.5%!!"
   ]
  },
  {
   "cell_type": "code",
   "execution_count": null,
   "metadata": {},
   "outputs": [],
   "source": [
    "#Dropping some columns that have duplicate data, like the ST_Code compared to State"
   ]
  },
  {
   "cell_type": "code",
   "execution_count": 21,
   "metadata": {},
   "outputs": [],
   "source": [
    "#After dropping those unneccesary columns, the accuracy score jumped to 92.3%!!"
   ]
  },
  {
   "cell_type": "code",
   "execution_count": null,
   "metadata": {},
   "outputs": [],
   "source": []
  }
 ],
 "metadata": {
  "kernelspec": {
   "display_name": "Python 3 (ipykernel)",
   "language": "python",
   "name": "python3"
  },
  "language_info": {
   "codemirror_mode": {
    "name": "ipython",
    "version": 3
   },
   "file_extension": ".py",
   "mimetype": "text/x-python",
   "name": "python",
   "nbconvert_exporter": "python",
   "pygments_lexer": "ipython3",
   "version": "3.7.13"
  },
  "vscode": {
   "interpreter": {
    "hash": "ba7ef81f1f8beb9be4c564ad4b6dfc47d246db89c5baddc1cb7e88ecb6a449f7"
   }
  }
 },
 "nbformat": 4,
 "nbformat_minor": 2
}
