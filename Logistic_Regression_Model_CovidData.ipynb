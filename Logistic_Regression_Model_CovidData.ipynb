{
 "cells": [
  {
   "cell_type": "code",
   "execution_count": 1,
   "metadata": {},
   "outputs": [],
   "source": [
    "#Import dependencies and other necessary items\n",
    "import warnings\n",
    "warnings.filterwarnings('ignore')\n",
    "import numpy as np\n",
    "import pandas as pd\n",
    "from pathlib import Path\n",
    "from collections import Counter"
   ]
  },
  {
   "cell_type": "code",
   "execution_count": 2,
   "metadata": {},
   "outputs": [],
   "source": [
    "from sklearn.metrics import balanced_accuracy_score\n",
    "from sklearn.metrics import confusion_matrix"
   ]
  },
  {
   "cell_type": "code",
   "execution_count": 3,
   "metadata": {
    "scrolled": true
   },
   "outputs": [
    {
     "data": {
      "text/html": [
       "<div>\n",
       "<style scoped>\n",
       "    .dataframe tbody tr th:only-of-type {\n",
       "        vertical-align: middle;\n",
       "    }\n",
       "\n",
       "    .dataframe tbody tr th {\n",
       "        vertical-align: top;\n",
       "    }\n",
       "\n",
       "    .dataframe thead th {\n",
       "        text-align: right;\n",
       "    }\n",
       "</style>\n",
       "<table border=\"1\" class=\"dataframe\">\n",
       "  <thead>\n",
       "    <tr style=\"text-align: right;\">\n",
       "      <th></th>\n",
       "      <th>Unnamed: 0</th>\n",
       "      <th>Unnamed: 0.1</th>\n",
       "      <th>Date_Onset</th>\n",
       "      <th>State</th>\n",
       "      <th>ST_Code</th>\n",
       "      <th>County</th>\n",
       "      <th>FIPS</th>\n",
       "      <th>Age_Range</th>\n",
       "      <th>Sex</th>\n",
       "      <th>Race</th>\n",
       "      <th>Ethnicity</th>\n",
       "      <th>Case_Positive_Specimen</th>\n",
       "      <th>Current_Status</th>\n",
       "      <th>Symptom_Status</th>\n",
       "      <th>Hosp_yn</th>\n",
       "      <th>ICU_yn</th>\n",
       "      <th>Death_yn</th>\n",
       "      <th>Date_Onset_Month</th>\n",
       "      <th>Date_Onset_Year</th>\n",
       "    </tr>\n",
       "  </thead>\n",
       "  <tbody>\n",
       "    <tr>\n",
       "      <th>0</th>\n",
       "      <td>128</td>\n",
       "      <td>128</td>\n",
       "      <td>8/1/2021</td>\n",
       "      <td>PA</td>\n",
       "      <td>42</td>\n",
       "      <td>WASHINGTON</td>\n",
       "      <td>42125</td>\n",
       "      <td>0 - 17 years</td>\n",
       "      <td>Female</td>\n",
       "      <td>White</td>\n",
       "      <td>Non-Hispanic/Latino</td>\n",
       "      <td>1</td>\n",
       "      <td>Probable Case</td>\n",
       "      <td>Symptomatic</td>\n",
       "      <td>False</td>\n",
       "      <td>False</td>\n",
       "      <td>False</td>\n",
       "      <td>8</td>\n",
       "      <td>2021</td>\n",
       "    </tr>\n",
       "    <tr>\n",
       "      <th>1</th>\n",
       "      <td>129</td>\n",
       "      <td>129</td>\n",
       "      <td>8/1/2021</td>\n",
       "      <td>PA</td>\n",
       "      <td>42</td>\n",
       "      <td>WASHINGTON</td>\n",
       "      <td>42125</td>\n",
       "      <td>0 - 17 years</td>\n",
       "      <td>Female</td>\n",
       "      <td>White</td>\n",
       "      <td>Non-Hispanic/Latino</td>\n",
       "      <td>1</td>\n",
       "      <td>Probable Case</td>\n",
       "      <td>Symptomatic</td>\n",
       "      <td>False</td>\n",
       "      <td>False</td>\n",
       "      <td>False</td>\n",
       "      <td>8</td>\n",
       "      <td>2021</td>\n",
       "    </tr>\n",
       "    <tr>\n",
       "      <th>2</th>\n",
       "      <td>287</td>\n",
       "      <td>287</td>\n",
       "      <td>4/1/2020</td>\n",
       "      <td>TN</td>\n",
       "      <td>47</td>\n",
       "      <td>SHELBY</td>\n",
       "      <td>47157</td>\n",
       "      <td>18 to 49 years</td>\n",
       "      <td>Female</td>\n",
       "      <td>Black</td>\n",
       "      <td>Non-Hispanic/Latino</td>\n",
       "      <td>1</td>\n",
       "      <td>Laboratory-confirmed case</td>\n",
       "      <td>Symptomatic</td>\n",
       "      <td>False</td>\n",
       "      <td>False</td>\n",
       "      <td>False</td>\n",
       "      <td>4</td>\n",
       "      <td>2020</td>\n",
       "    </tr>\n",
       "    <tr>\n",
       "      <th>3</th>\n",
       "      <td>378</td>\n",
       "      <td>378</td>\n",
       "      <td>10/1/2020</td>\n",
       "      <td>TN</td>\n",
       "      <td>47</td>\n",
       "      <td>DAVIDSON</td>\n",
       "      <td>47037</td>\n",
       "      <td>50 to 64 years</td>\n",
       "      <td>Male</td>\n",
       "      <td>Black</td>\n",
       "      <td>Non-Hispanic/Latino</td>\n",
       "      <td>0</td>\n",
       "      <td>Laboratory-confirmed case</td>\n",
       "      <td>Symptomatic</td>\n",
       "      <td>False</td>\n",
       "      <td>False</td>\n",
       "      <td>False</td>\n",
       "      <td>10</td>\n",
       "      <td>2020</td>\n",
       "    </tr>\n",
       "    <tr>\n",
       "      <th>4</th>\n",
       "      <td>470</td>\n",
       "      <td>470</td>\n",
       "      <td>2/1/2022</td>\n",
       "      <td>KS</td>\n",
       "      <td>20</td>\n",
       "      <td>RILEY</td>\n",
       "      <td>20161</td>\n",
       "      <td>0 - 17 years</td>\n",
       "      <td>Female</td>\n",
       "      <td>White</td>\n",
       "      <td>Non-Hispanic/Latino</td>\n",
       "      <td>0</td>\n",
       "      <td>Probable Case</td>\n",
       "      <td>Symptomatic</td>\n",
       "      <td>False</td>\n",
       "      <td>False</td>\n",
       "      <td>False</td>\n",
       "      <td>2</td>\n",
       "      <td>2022</td>\n",
       "    </tr>\n",
       "  </tbody>\n",
       "</table>\n",
       "</div>"
      ],
      "text/plain": [
       "   Unnamed: 0  Unnamed: 0.1 Date_Onset State  ST_Code      County   FIPS  \\\n",
       "0         128           128   8/1/2021    PA       42  WASHINGTON  42125   \n",
       "1         129           129   8/1/2021    PA       42  WASHINGTON  42125   \n",
       "2         287           287   4/1/2020    TN       47      SHELBY  47157   \n",
       "3         378           378  10/1/2020    TN       47    DAVIDSON  47037   \n",
       "4         470           470   2/1/2022    KS       20       RILEY  20161   \n",
       "\n",
       "        Age_Range     Sex   Race            Ethnicity  Case_Positive_Specimen  \\\n",
       "0    0 - 17 years  Female  White  Non-Hispanic/Latino                       1   \n",
       "1    0 - 17 years  Female  White  Non-Hispanic/Latino                       1   \n",
       "2  18 to 49 years  Female  Black  Non-Hispanic/Latino                       1   \n",
       "3  50 to 64 years    Male  Black  Non-Hispanic/Latino                       0   \n",
       "4    0 - 17 years  Female  White  Non-Hispanic/Latino                       0   \n",
       "\n",
       "              Current_Status Symptom_Status  Hosp_yn  ICU_yn  Death_yn  \\\n",
       "0              Probable Case    Symptomatic    False   False     False   \n",
       "1              Probable Case    Symptomatic    False   False     False   \n",
       "2  Laboratory-confirmed case    Symptomatic    False   False     False   \n",
       "3  Laboratory-confirmed case    Symptomatic    False   False     False   \n",
       "4              Probable Case    Symptomatic    False   False     False   \n",
       "\n",
       "   Date_Onset_Month  Date_Onset_Year  \n",
       "0                 8             2021  \n",
       "1                 8             2021  \n",
       "2                 4             2020  \n",
       "3                10             2020  \n",
       "4                 2             2022  "
      ]
     },
     "execution_count": 3,
     "metadata": {},
     "output_type": "execute_result"
    }
   ],
   "source": [
    "# Load in the provisional data as a CSV\n",
    "provisional_data_df = pd.read_csv(\"Resources/provisionaldb.csv\")\n",
    "provisional_data_df.head()"
   ]
  },
  {
   "cell_type": "markdown",
   "metadata": {},
   "source": [
    "# Clean the data and prepare it for the machine learning model"
   ]
  },
  {
   "cell_type": "code",
   "execution_count": 21,
   "metadata": {},
   "outputs": [],
   "source": [
    "from sklearn import preprocessing\n",
    "from sklearn.preprocessing import LabelEncoder"
   ]
  },
  {
   "cell_type": "code",
   "execution_count": 35,
   "metadata": {},
   "outputs": [],
   "source": [
    "for name in provisional_data_df.columns: \n",
    "    le = preprocessing.LabelEncoder()\n",
    "    test = le.fit(provisional_data_df[name])\n",
    "    provisional_data_df[name] = le.transform(provisional_data_df[name])"
   ]
  },
  {
   "cell_type": "code",
   "execution_count": 36,
   "metadata": {
    "scrolled": true
   },
   "outputs": [
    {
     "data": {
      "text/html": [
       "<div>\n",
       "<style scoped>\n",
       "    .dataframe tbody tr th:only-of-type {\n",
       "        vertical-align: middle;\n",
       "    }\n",
       "\n",
       "    .dataframe tbody tr th {\n",
       "        vertical-align: top;\n",
       "    }\n",
       "\n",
       "    .dataframe thead th {\n",
       "        text-align: right;\n",
       "    }\n",
       "</style>\n",
       "<table border=\"1\" class=\"dataframe\">\n",
       "  <thead>\n",
       "    <tr style=\"text-align: right;\">\n",
       "      <th></th>\n",
       "      <th>Unnamed: 0</th>\n",
       "      <th>Unnamed: 0.1</th>\n",
       "      <th>Date_Onset</th>\n",
       "      <th>State</th>\n",
       "      <th>ST_Code</th>\n",
       "      <th>County</th>\n",
       "      <th>FIPS</th>\n",
       "      <th>Age_Range</th>\n",
       "      <th>Sex</th>\n",
       "      <th>Race</th>\n",
       "      <th>Ethnicity</th>\n",
       "      <th>Case_Positive_Specimen</th>\n",
       "      <th>Current_Status</th>\n",
       "      <th>Symptom_Status</th>\n",
       "      <th>Hosp_yn</th>\n",
       "      <th>ICU_yn</th>\n",
       "      <th>Death_yn</th>\n",
       "      <th>Date_Onset_Month</th>\n",
       "      <th>Date_Onset_Year</th>\n",
       "    </tr>\n",
       "  </thead>\n",
       "  <tbody>\n",
       "    <tr>\n",
       "      <th>0</th>\n",
       "      <td>0</td>\n",
       "      <td>0</td>\n",
       "      <td>26</td>\n",
       "      <td>14</td>\n",
       "      <td>14</td>\n",
       "      <td>178</td>\n",
       "      <td>168</td>\n",
       "      <td>0</td>\n",
       "      <td>0</td>\n",
       "      <td>5</td>\n",
       "      <td>1</td>\n",
       "      <td>6</td>\n",
       "      <td>1</td>\n",
       "      <td>1</td>\n",
       "      <td>0</td>\n",
       "      <td>0</td>\n",
       "      <td>0</td>\n",
       "      <td>7</td>\n",
       "      <td>1</td>\n",
       "    </tr>\n",
       "    <tr>\n",
       "      <th>1</th>\n",
       "      <td>1</td>\n",
       "      <td>1</td>\n",
       "      <td>26</td>\n",
       "      <td>14</td>\n",
       "      <td>14</td>\n",
       "      <td>178</td>\n",
       "      <td>168</td>\n",
       "      <td>0</td>\n",
       "      <td>0</td>\n",
       "      <td>5</td>\n",
       "      <td>1</td>\n",
       "      <td>6</td>\n",
       "      <td>1</td>\n",
       "      <td>1</td>\n",
       "      <td>0</td>\n",
       "      <td>0</td>\n",
       "      <td>0</td>\n",
       "      <td>7</td>\n",
       "      <td>1</td>\n",
       "    </tr>\n",
       "    <tr>\n",
       "      <th>2</th>\n",
       "      <td>2</td>\n",
       "      <td>2</td>\n",
       "      <td>13</td>\n",
       "      <td>15</td>\n",
       "      <td>15</td>\n",
       "      <td>159</td>\n",
       "      <td>203</td>\n",
       "      <td>1</td>\n",
       "      <td>0</td>\n",
       "      <td>2</td>\n",
       "      <td>1</td>\n",
       "      <td>6</td>\n",
       "      <td>0</td>\n",
       "      <td>1</td>\n",
       "      <td>0</td>\n",
       "      <td>0</td>\n",
       "      <td>0</td>\n",
       "      <td>3</td>\n",
       "      <td>0</td>\n",
       "    </tr>\n",
       "    <tr>\n",
       "      <th>3</th>\n",
       "      <td>3</td>\n",
       "      <td>3</td>\n",
       "      <td>2</td>\n",
       "      <td>15</td>\n",
       "      <td>15</td>\n",
       "      <td>47</td>\n",
       "      <td>179</td>\n",
       "      <td>2</td>\n",
       "      <td>1</td>\n",
       "      <td>2</td>\n",
       "      <td>1</td>\n",
       "      <td>5</td>\n",
       "      <td>0</td>\n",
       "      <td>1</td>\n",
       "      <td>0</td>\n",
       "      <td>0</td>\n",
       "      <td>0</td>\n",
       "      <td>9</td>\n",
       "      <td>0</td>\n",
       "    </tr>\n",
       "    <tr>\n",
       "      <th>4</th>\n",
       "      <td>4</td>\n",
       "      <td>4</td>\n",
       "      <td>9</td>\n",
       "      <td>5</td>\n",
       "      <td>5</td>\n",
       "      <td>144</td>\n",
       "      <td>39</td>\n",
       "      <td>0</td>\n",
       "      <td>0</td>\n",
       "      <td>5</td>\n",
       "      <td>1</td>\n",
       "      <td>5</td>\n",
       "      <td>1</td>\n",
       "      <td>1</td>\n",
       "      <td>0</td>\n",
       "      <td>0</td>\n",
       "      <td>0</td>\n",
       "      <td>1</td>\n",
       "      <td>2</td>\n",
       "    </tr>\n",
       "  </tbody>\n",
       "</table>\n",
       "</div>"
      ],
      "text/plain": [
       "   Unnamed: 0  Unnamed: 0.1  Date_Onset  State  ST_Code  County  FIPS  \\\n",
       "0           0             0          26     14       14     178   168   \n",
       "1           1             1          26     14       14     178   168   \n",
       "2           2             2          13     15       15     159   203   \n",
       "3           3             3           2     15       15      47   179   \n",
       "4           4             4           9      5        5     144    39   \n",
       "\n",
       "   Age_Range  Sex  Race  Ethnicity  Case_Positive_Specimen  Current_Status  \\\n",
       "0          0    0     5          1                       6               1   \n",
       "1          0    0     5          1                       6               1   \n",
       "2          1    0     2          1                       6               0   \n",
       "3          2    1     2          1                       5               0   \n",
       "4          0    0     5          1                       5               1   \n",
       "\n",
       "   Symptom_Status  Hosp_yn  ICU_yn  Death_yn  Date_Onset_Month  \\\n",
       "0               1        0       0         0                 7   \n",
       "1               1        0       0         0                 7   \n",
       "2               1        0       0         0                 3   \n",
       "3               1        0       0         0                 9   \n",
       "4               1        0       0         0                 1   \n",
       "\n",
       "   Date_Onset_Year  \n",
       "0                1  \n",
       "1                1  \n",
       "2                0  \n",
       "3                0  \n",
       "4                2  "
      ]
     },
     "execution_count": 36,
     "metadata": {},
     "output_type": "execute_result"
    }
   ],
   "source": [
    "provisional_data_df.head()"
   ]
  },
  {
   "cell_type": "code",
   "execution_count": 37,
   "metadata": {},
   "outputs": [
    {
     "data": {
      "text/plain": [
       "Unnamed: 0                int64\n",
       "Unnamed: 0.1              int64\n",
       "Date_Onset                int32\n",
       "State                     int32\n",
       "ST_Code                   int64\n",
       "County                    int32\n",
       "FIPS                      int64\n",
       "Age_Range                 int64\n",
       "Sex                       int32\n",
       "Race                      int32\n",
       "Ethnicity                 int32\n",
       "Case_Positive_Specimen    int64\n",
       "Current_Status            int32\n",
       "Symptom_Status            int32\n",
       "Hosp_yn                   int64\n",
       "ICU_yn                    int64\n",
       "Death_yn                  int64\n",
       "Date_Onset_Month          int64\n",
       "Date_Onset_Year           int64\n",
       "dtype: object"
      ]
     },
     "execution_count": 37,
     "metadata": {},
     "output_type": "execute_result"
    }
   ],
   "source": [
    "provisional_data_df.dtypes"
   ]
  },
  {
   "cell_type": "code",
   "execution_count": 4,
   "metadata": {},
   "outputs": [],
   "source": [
    "# # #Load the data\n",
    "# url = \"https://raw.githubusercontent.com/momentarypause/COVID_Death_Analysis/arutledge/segment1/database/data/test.csv\"\n",
    "\n",
    "# covid_data_df = pd.read_csv(url)\n",
    "# covid_data_df.head()\n",
    "# # OR \n",
    "# # covid_data_df = pd.read_json()"
   ]
  },
  {
   "cell_type": "markdown",
   "metadata": {},
   "source": [
    "# Split the data into training and testing"
   ]
  },
  {
   "cell_type": "code",
   "execution_count": 6,
   "metadata": {},
   "outputs": [],
   "source": [
    "#Ensure all data types are numerical for the machine learning model to process"
   ]
  },
  {
   "cell_type": "code",
   "execution_count": 38,
   "metadata": {},
   "outputs": [],
   "source": [
    "#Create features\n",
    "X = provisional_data_df.drop(['Death_yn'], axis=1)\n",
    "\n",
    "#Create targets\n",
    "y = provisional_data_df['Death_yn']"
   ]
  },
  {
   "cell_type": "code",
   "execution_count": 39,
   "metadata": {},
   "outputs": [
    {
     "data": {
      "text/plain": [
       "0    2808\n",
       "1      67\n",
       "Name: Death_yn, dtype: int64"
      ]
     },
     "execution_count": 39,
     "metadata": {},
     "output_type": "execute_result"
    }
   ],
   "source": [
    "#Check balance of the target values\n",
    "y.value_counts()"
   ]
  },
  {
   "cell_type": "code",
   "execution_count": 40,
   "metadata": {},
   "outputs": [],
   "source": [
    "#Will need to do sampling to shift the unbalanced data"
   ]
  },
  {
   "cell_type": "code",
   "execution_count": 41,
   "metadata": {},
   "outputs": [],
   "source": [
    "#Import train test split and split the data into training and testing\n",
    "from sklearn.model_selection import train_test_split\n",
    "X_train, X_test, y_train, y_test = train_test_split(X, y, random_state=1,stratify=y)"
   ]
  },
  {
   "cell_type": "markdown",
   "metadata": {},
   "source": [
    "# Use Logistic Regression Model to train and predict"
   ]
  },
  {
   "cell_type": "code",
   "execution_count": 42,
   "metadata": {},
   "outputs": [
    {
     "data": {
      "text/plain": [
       "LogisticRegression(random_state=1)"
      ]
     },
     "execution_count": 42,
     "metadata": {},
     "output_type": "execute_result"
    }
   ],
   "source": [
    "# # Train the Logistic Regression model using the training data\n",
    "\n",
    "from sklearn.linear_model import LogisticRegression\n",
    "model = LogisticRegression(solver=\"lbfgs\", random_state=1)\n",
    "model.fit(X_train, y_train)"
   ]
  },
  {
   "cell_type": "code",
   "execution_count": 43,
   "metadata": {},
   "outputs": [],
   "source": [
    "#Predict using the trained data\n",
    "\n",
    "y_pred = model.predict(X_test)"
   ]
  },
  {
   "cell_type": "code",
   "execution_count": 44,
   "metadata": {},
   "outputs": [
    {
     "name": "stdout",
     "output_type": "stream",
     "text": [
      "      Prediction  Actual\n",
      "559            0       0\n",
      "2669           0       0\n",
      "1345           0       0\n",
      "168            0       0\n",
      "2234           0       0\n",
      "...          ...     ...\n",
      "1492           0       0\n",
      "2819           0       0\n",
      "413            0       0\n",
      "702            0       0\n",
      "242            0       0\n",
      "\n",
      "[719 rows x 2 columns]\n"
     ]
    }
   ],
   "source": [
    "#Compare the prediction data vs the actual data from y_test\n",
    "\n",
    "compare_df = pd.DataFrame({\"Prediction\": y_pred, \"Actual\": y_test})\n",
    "print(compare_df)"
   ]
  },
  {
   "cell_type": "markdown",
   "metadata": {},
   "source": [
    "# Showcase results of the machine learning model"
   ]
  },
  {
   "cell_type": "code",
   "execution_count": 45,
   "metadata": {},
   "outputs": [
    {
     "name": "stdout",
     "output_type": "stream",
     "text": [
      "The balanced accuracy score for the Logistic Regression Model is : 0.7317328640858052\n"
     ]
    }
   ],
   "source": [
    "# Calculated the balanced accuracy score\n",
    "\n",
    "from sklearn.metrics import balanced_accuracy_score, confusion_matrix\n",
    "\n",
    "acc_score = balanced_accuracy_score(y_test, y_pred)\n",
    "\n",
    "print(f\"The balanced accuracy score for the Logistic Regression Model is : {acc_score}\")"
   ]
  },
  {
   "cell_type": "code",
   "execution_count": 47,
   "metadata": {},
   "outputs": [
    {
     "name": "stdout",
     "output_type": "stream",
     "text": [
      "              Pred Alive  Pred Dead\n",
      "Actual Alive         697          5\n",
      "Actual Dead            9          8\n"
     ]
    }
   ],
   "source": [
    "# Display the confusion matrix\n",
    "\n",
    "cm = pd.DataFrame(confusion_matrix(y_test, y_pred), index = [\"Actual Alive\", \"Actual Dead\"], columns = [\"Pred Alive\", \"Pred Dead\"])\n",
    "print(cm)"
   ]
  },
  {
   "cell_type": "markdown",
   "metadata": {},
   "source": [
    "# Expected Results"
   ]
  },
  {
   "cell_type": "code",
   "execution_count": 18,
   "metadata": {},
   "outputs": [],
   "source": [
    "# The machine learning model we chose for this project is a Logistic Regression Model\n",
    "#because it will categorize the results into two parts: yes or no. This will effectively \n",
    "#answer the question if COVID deaths can be predicted based on several factors or underlying conditions."
   ]
  },
  {
   "cell_type": "code",
   "execution_count": null,
   "metadata": {},
   "outputs": [],
   "source": []
  }
 ],
 "metadata": {
  "kernelspec": {
   "display_name": "Python 3 (ipykernel)",
   "language": "python",
   "name": "python3"
  },
  "language_info": {
   "codemirror_mode": {
    "name": "ipython",
    "version": 3
   },
   "file_extension": ".py",
   "mimetype": "text/x-python",
   "name": "python",
   "nbconvert_exporter": "python",
   "pygments_lexer": "ipython3",
   "version": "3.7.13"
  },
  "vscode": {
   "interpreter": {
    "hash": "ba7ef81f1f8beb9be4c564ad4b6dfc47d246db89c5baddc1cb7e88ecb6a449f7"
   }
  }
 },
 "nbformat": 4,
 "nbformat_minor": 2
}
